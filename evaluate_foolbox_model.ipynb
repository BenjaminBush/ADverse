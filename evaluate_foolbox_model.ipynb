{
 "cells": [
  {
   "cell_type": "code",
   "execution_count": 1,
   "metadata": {
    "ExecuteTime": {
     "end_time": "2019-03-07T01:27:25.929205Z",
     "start_time": "2019-03-07T01:27:24.272569Z"
    }
   },
   "outputs": [
    {
     "name": "stderr",
     "output_type": "stream",
     "text": [
      "Using TensorFlow backend.\n"
     ]
    }
   ],
   "source": [
    "import foolbox\n",
    "import keras\n",
    "from keras.preprocessing.image import ImageDataGenerator\n",
    "from keras.models import load_model\n",
    "import numpy as np\n",
    "import pickle\n",
    "import pandas as pd\n",
    "from PIL import Image\n",
    "import os\n",
    "Image.MAX_IMAGE_PIXELS = 10000000000000000000      "
   ]
  },
  {
   "cell_type": "code",
   "execution_count": 2,
   "metadata": {
    "ExecuteTime": {
     "end_time": "2019-03-07T01:29:34.086412Z",
     "start_time": "2019-03-07T01:29:28.240072Z"
    }
   },
   "outputs": [],
   "source": [
    "model = load_model('resnet_foolbox_test.h5')"
   ]
  },
  {
   "cell_type": "code",
   "execution_count": 18,
   "metadata": {
    "ExecuteTime": {
     "end_time": "2019-03-07T01:36:39.191258Z",
     "start_time": "2019-03-07T01:36:17.478904Z"
    }
   },
   "outputs": [
    {
     "name": "stdout",
     "output_type": "stream",
     "text": [
      "Processed 100 images\n",
      "Processed 200 images\n",
      "Finished ads...\n",
      "Moving on to nonads...\n",
      "Processed 300 images\n",
      "Processed 400 images\n",
      "Processed 500 images\n",
      "Processed 600 images\n",
      "Processed 700 images\n"
     ]
    }
   ],
   "source": [
    "ad_validation_data_dir = \"C:\\\\Users\\\\Ben\\\\Desktop\\\\new_data\\\\validation\\\\ad\\\\\"\n",
    "nonad_validation_data_dir = \"C:\\\\Users\\\\Ben\\\\Desktop\\\\new_data\\\\validation\\\\nonad\\\\\"\n",
    "\n",
    "img_width, img_height = 224, 224\n",
    "misclassified = 0\n",
    "num_total = 0\n",
    "messed_up = 0\n",
    "for filename in os.listdir(ad_validation_data_dir):\n",
    "    fname = ad_validation_data_dir + filename\n",
    "    img = Image.open(fname)\n",
    "    img = img.resize((img_width, img_height))\n",
    "    img = np.asarray(img)\n",
    "    img = img/255\n",
    "    try:\n",
    "        img = np.reshape(img, [1, img_width, img_height, 3])\n",
    "        pred = model.predict(img)\n",
    "        class_pred = np.argmin(pred, axis=1)\n",
    "        if class_pred != 0:\n",
    "            misclassified += 1\n",
    "    except:\n",
    "        messed_up += 1\n",
    "        continue\n",
    "    num_total += 1\n",
    "    if num_total%100 == 0:\n",
    "        print(\"Processed {} images\".format(num_total))\n",
    "        \n",
    "print(\"Finished ads...\")\n",
    "print(\"Moving on to nonads...\")\n",
    "for filename in os.listdir(nonad_validation_data_dir):\n",
    "    fname = nonad_validation_data_dir + filename\n",
    "    img = Image.open(fname)\n",
    "    img = img.resize((img_width, img_height))\n",
    "    img = np.asarray(img)\n",
    "    img = img/255\n",
    "    try:\n",
    "        img = np.reshape(img, [1, img_width, img_height, 3])\n",
    "        pred = model.predict(img)\n",
    "        class_pred = np.argmin(pred, axis=1)\n",
    "        if class_pred != 1:\n",
    "            misclassified += 1\n",
    "    except:\n",
    "        messed_up += 1\n",
    "        continue\n",
    "    num_total += 1\n",
    "    if num_total%100 == 0:\n",
    "        print(\"Processed {} images\".format(num_total))\n"
   ]
  },
  {
   "cell_type": "code",
   "execution_count": 19,
   "metadata": {
    "ExecuteTime": {
     "end_time": "2019-03-07T01:36:39.195723Z",
     "start_time": "2019-03-07T01:36:39.192747Z"
    }
   },
   "outputs": [
    {
     "name": "stdout",
     "output_type": "stream",
     "text": [
      "0.6857506361323156\n"
     ]
    }
   ],
   "source": [
    "per = (num_total-misclassified-messed_up)/(num_total)\n",
    "print(per)"
   ]
  },
  {
   "cell_type": "code",
   "execution_count": 20,
   "metadata": {
    "ExecuteTime": {
     "end_time": "2019-03-07T01:36:39.208123Z",
     "start_time": "2019-03-07T01:36:39.197211Z"
    }
   },
   "outputs": [
    {
     "name": "stdout",
     "output_type": "stream",
     "text": [
      "237\n"
     ]
    }
   ],
   "source": [
    "print(misclassified)"
   ]
  },
  {
   "cell_type": "code",
   "execution_count": 21,
   "metadata": {
    "ExecuteTime": {
     "end_time": "2019-03-07T01:36:39.219035Z",
     "start_time": "2019-03-07T01:36:39.209611Z"
    }
   },
   "outputs": [
    {
     "name": "stdout",
     "output_type": "stream",
     "text": [
      "10\n"
     ]
    }
   ],
   "source": [
    "print(messed_up)"
   ]
  },
  {
   "cell_type": "code",
   "execution_count": null,
   "metadata": {},
   "outputs": [],
   "source": []
  }
 ],
 "metadata": {
  "kernelspec": {
   "display_name": "Python 3",
   "language": "python",
   "name": "python3"
  },
  "language_info": {
   "codemirror_mode": {
    "name": "ipython",
    "version": 3
   },
   "file_extension": ".py",
   "mimetype": "text/x-python",
   "name": "python",
   "nbconvert_exporter": "python",
   "pygments_lexer": "ipython3",
   "version": "3.6.8"
  }
 },
 "nbformat": 4,
 "nbformat_minor": 2
}
